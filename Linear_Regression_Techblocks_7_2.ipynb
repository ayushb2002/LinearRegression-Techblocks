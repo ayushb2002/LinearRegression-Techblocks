{
  "nbformat": 4,
  "nbformat_minor": 0,
  "metadata": {
    "colab": {
      "name": "Linear Regression @ Techblocks 7.2.ipynb",
      "provenance": [],
      "collapsed_sections": [],
      "toc_visible": true
    },
    "kernelspec": {
      "name": "python3",
      "display_name": "Python 3"
    },
    "language_info": {
      "name": "python"
    }
  },
  "cells": [
    {
      "cell_type": "markdown",
      "source": [
        "### LINEAR REGRESSION\n",
        "\n",
        "A model that assumes a linear relationship between the input variables (x) and the single output variable (y)."
      ],
      "metadata": {
        "id": "Tr9cpdfcvUhl"
      }
    },
    {
      "cell_type": "markdown",
      "source": [
        "### Linear regression and multiple regression\n",
        "\n",
        "When there is a single input variable (x), the method is referred to as simple linear regression. When there are multiple input variables, literature from statistics often refers to the method as multiple regression."
      ],
      "metadata": {
        "id": "LxjCHgfozxBl"
      }
    },
    {
      "cell_type": "markdown",
      "source": [
        "## The main idea\n",
        "\n",
        "* Fit a line to the data using least squares.\n",
        "* Calculate R^2\n"
      ],
      "metadata": {
        "id": "90kO1etJvjNu"
      }
    },
    {
      "cell_type": "markdown",
      "source": [
        "<img src=\"https://www.googleapis.com/download/storage/v1/b/kaggle-forum-message-attachments/o/inbox%2F4735094%2Fac2b17d6a2c8351851527d41fe34ed5a%2F1548702778023.png?generation=1600526502256987&alt=media\" alt=\"linear-regression\" width=\"600px\">\n",
        "\n",
        "Different techniques can be used to prepare or train the linear regression equation from data, the most common of which is called Ordinary Least Squares. It is common to therefore refer to a model prepared this way as Ordinary Least Squares Linear Regression or just Least Squares Regression."
      ],
      "metadata": {
        "id": "_6RirEQ9v0Qv"
      }
    },
    {
      "cell_type": "markdown",
      "source": [
        "### Few models for linear regression\n",
        "\n",
        "* Simple linear regression\n",
        "* Ordinary least square method\n",
        "* Gradient descent\n",
        "* Regularization"
      ],
      "metadata": {
        "id": "Xa6vT-XIyPt2"
      }
    },
    {
      "cell_type": "markdown",
      "source": [
        "## Ordinary Least square method"
      ],
      "metadata": {
        "id": "UT4lur5DItYy"
      }
    },
    {
      "cell_type": "markdown",
      "source": [
        "### Mathematics behind it\n",
        "\n",
        "We take our model's linear equation as  \n",
        "`y = A + Bx + e` <br>\n",
        "Where e is error of approximation. <br>\n",
        "\n",
        "We can rewrite our line as \n",
        "`y' = A + Bx'` <br>\n",
        "Where `e = y - y'`\n",
        "\n",
        "Now for all the points on the graph, there will be some value of e. <br>\n",
        "Thus we can say that `e(i) = y(i) - h(x(i))`. <br> \n",
        "Where\n",
        "* i - ith observation\n",
        "* y - actual label\n",
        "* h(x) - predicted label\n",
        "\n",
        "The best possible approximation will be given by sum of squared errors, thus called `Least square approximation`.\n",
        "\n",
        "`S = e(1)^2 + e(2)^2 + .... + e(n)^2` <br>\n",
        "`S = Σ[y(i)-h(x(i))]^2` <br>\n",
        "`S = Σ[y(i) - (A+Bx(i))]^2` <br>\n",
        "\n",
        "We choose values of A and B such that S is minimum. Thus upon minimizing sum of squared errors, we get \n",
        "\n",
        "`Σy(i) = na + bΣx(i)` <br>\n",
        "`Σx(i)y(i) = aΣx(i) + bΣx(i)^2`\n",
        "\n",
        "Here, n is number of rows/ samples.\n",
        "\n",
        "Thus these equations can be used to find our linear regression equation."
      ],
      "metadata": {
        "id": "ycNoNAI-OpzL"
      }
    },
    {
      "cell_type": "code",
      "source": [
        "# Lets see an example of OLS.\n",
        "import numpy as np\n",
        "import pandas as pd\n",
        "import matplotlib.pyplot as plt\n",
        "\n",
        "# Define X and y variables.\n",
        "y = np.array([20, 18, 15, 12, 9, 5, 2]) # Dependent variable x(i)\n",
        "X = np.array([100, 150, 200, 300, 400, 500, 600]) # Independent variable y(i)\n",
        "y, X"
      ],
      "metadata": {
        "colab": {
          "base_uri": "https://localhost:8080/"
        },
        "id": "XqQtVR2dT8s7",
        "outputId": "90db853e-a4fb-40ea-a691-1c4c4ee2c0fe"
      },
      "execution_count": 8,
      "outputs": [
        {
          "output_type": "execute_result",
          "data": {
            "text/plain": [
              "(array([20, 18, 15, 12,  9,  5,  2]),\n",
              " array([100, 150, 200, 300, 400, 500, 600]))"
            ]
          },
          "metadata": {},
          "execution_count": 8
        }
      ]
    },
    {
      "cell_type": "code",
      "source": [
        "X_2 = np.square(X) # x^2(i) values\n",
        "Xy = X*y # x(i)*y(i) values\n",
        "X_2, Xy\n"
      ],
      "metadata": {
        "colab": {
          "base_uri": "https://localhost:8080/"
        },
        "id": "lpLBl6SmU5k3",
        "outputId": "e9e3c519-0aab-48c4-f4bf-90da0368285b"
      },
      "execution_count": 10,
      "outputs": [
        {
          "output_type": "execute_result",
          "data": {
            "text/plain": [
              "(array([ 10000,  22500,  40000,  90000, 160000, 250000, 360000]),\n",
              " array([2000, 2700, 3000, 3600, 3600, 2500, 1200]))"
            ]
          },
          "metadata": {},
          "execution_count": 10
        }
      ]
    },
    {
      "cell_type": "code",
      "source": [
        "# Confirm that size of array x and y matches\n",
        "len(X) == len(y)"
      ],
      "metadata": {
        "colab": {
          "base_uri": "https://localhost:8080/"
        },
        "id": "d7BmDhhgVKz8",
        "outputId": "4a076b1c-5415-40b7-cc3e-945e3e123ec2"
      },
      "execution_count": 11,
      "outputs": [
        {
          "output_type": "execute_result",
          "data": {
            "text/plain": [
              "True"
            ]
          },
          "metadata": {},
          "execution_count": 11
        }
      ]
    },
    {
      "cell_type": "code",
      "source": [
        "# Visualising our data\n",
        "\n",
        "plt.plot(X, y, 'ro')\n",
        "plt.xlabel(\"Dependent variable\")\n",
        "plt.ylabel(\"Independent variable\")\n",
        "plt.show()"
      ],
      "metadata": {
        "colab": {
          "base_uri": "https://localhost:8080/",
          "height": 279
        },
        "id": "mZoprLoAVnL1",
        "outputId": "8bdc5038-15ee-4635-fab8-9ed2a64b75cc"
      },
      "execution_count": 15,
      "outputs": [
        {
          "output_type": "display_data",
          "data": {
            "image/png": "[encoded data removed]",
            "text/plain": [
              "<Figure size 432x288 with 1 Axes>"
            ]
          },
          "metadata": {
            "needs_background": "light"
          }
        }
      ]
    },
    {
      "cell_type": "code",
      "source": [
        "# Calculating sum of x, y, x^2, xy\n",
        "\n",
        "def calculateSum(v):\n",
        "  sum = 0\n",
        "  for i in v:\n",
        "    sum = sum+i\n",
        "\n",
        "  return sum\n",
        "\n",
        "X_sum = calculateSum(X)\n",
        "X_2_sum = calculateSum(X_2)\n",
        "y_sum = calculateSum(y)\n",
        "Xy_sum = calculateSum(Xy)\n",
        "X_sum, X_2_sum, y_sum, Xy_sum"
      ],
      "metadata": {
        "colab": {
          "base_uri": "https://localhost:8080/"
        },
        "id": "EmT0cGpsWs6I",
        "outputId": "63b43dd7-c9ea-4a49-a25e-6f8b50489575"
      },
      "execution_count": 19,
      "outputs": [
        {
          "output_type": "execute_result",
          "data": {
            "text/plain": [
              "(2250, 932500, 81, 18600)"
            ]
          },
          "metadata": {},
          "execution_count": 19
        }
      ]
    },
    {
      "cell_type": "code",
      "source": [
        "# Define number of rows \n",
        "\n",
        "n = len(X)\n",
        "n"
      ],
      "metadata": {
        "colab": {
          "base_uri": "https://localhost:8080/"
        },
        "id": "o8RqavMvWU3v",
        "outputId": "553acdfd-b43f-4911-a4bc-0309aee2d8ca"
      },
      "execution_count": 17,
      "outputs": [
        {
          "output_type": "execute_result",
          "data": {
            "text/plain": [
              "7"
            ]
          },
          "metadata": {},
          "execution_count": 17
        }
      ]
    },
    {
      "cell_type": "code",
      "source": [
        "# Using equations derived above to calculate coefficients A and B.\n",
        "# Solving those equations for A and B, we get following equations\n",
        "\n",
        "d = n*X_2_sum-np.square(X_sum)\n",
        "\n",
        "A = (y_sum*X_2_sum -X_sum*Xy_sum)/d\n",
        "B = (n*Xy_sum - X_sum*y_sum)/d\n",
        "\n",
        "A, B"
      ],
      "metadata": {
        "colab": {
          "base_uri": "https://localhost:8080/"
        },
        "id": "05gHpzCXWgnq",
        "outputId": "53914be4-eba0-4098-e09d-460729974f01"
      },
      "execution_count": 21,
      "outputs": [
        {
          "output_type": "execute_result",
          "data": {
            "text/plain": [
              "(22.99146757679181, -0.03552901023890785)"
            ]
          },
          "metadata": {},
          "execution_count": 21
        }
      ]
    },
    {
      "cell_type": "code",
      "source": [
        "# Thus final regression line is \n",
        "print(f\"y=({A})+({B})x\")"
      ],
      "metadata": {
        "colab": {
          "base_uri": "https://localhost:8080/"
        },
        "id": "1bCtlDF_ZU1S",
        "outputId": "14103f19-cb74-41be-8053-02b60fb9e385"
      },
      "execution_count": 24,
      "outputs": [
        {
          "output_type": "stream",
          "name": "stdout",
          "text": [
            "y=(22.99146757679181)+(-0.03552901023890785)x\n"
          ]
        }
      ]
    },
    {
      "cell_type": "markdown",
      "source": [
        "### Making predictions with linear regression\n",
        "\n",
        "Suppose our linear regression equation is y = A + Bx\n",
        "\n",
        "* We call y as dependent variable.  \n",
        "* We call x as independent variable.\n",
        "\n",
        "* We say that parameter B represnts the variation of the dependent variable when independent variable has a unitary variation.\n",
        "\n",
        " For example, if we have B = 0.5, then upon increasing x by 1, y will  increase by 0.5.\n",
        "\n",
        "* Parameter A gives us value of dependent variable (y) when independent variable (x) is 0.\n",
        "\n",
        "Now, assuming that we have a data of corresponding height and weight of people of a college, upon trainig the linear regression model, we get values of coefficients A and B. Using these values, we can then make prediction on incoming data.\n",
        "\n",
        "For example, assuming we got A = 5000 and B = 200 on training our model, considering height as x and weight as y, we have a new student's height to be 172cm. Thus the student's predicted weight will be - \n",
        "\n",
        "y = 50000 + 200x <br>\n",
        "y = 50000 + 2*172 <br>\n",
        "y = 50000 + 34400 <br>\n",
        "y = 84400 g <br>\n",
        "y = 84.4 Kg <br>\n",
        "\n",
        "Thus the new student's predicted weight will be <b>84.4 Kg</b>"
      ],
      "metadata": {
        "id": "dXImr4fg1flD"
      }
    },
    {
      "cell_type": "code",
      "source": [
        "# Final result\n",
        "\n",
        "y_predicted = A+B*X\n",
        "fig, (ax1, ax2) = plt.subplots(nrows=1, ncols=2, figsize=(10,5))\n",
        "ax1.plot(X, y_predicted)\n",
        "ax2.scatter(X, y)"
      ],
      "metadata": {
        "colab": {
          "base_uri": "https://localhost:8080/",
          "height": 338
        },
        "id": "JUkAsHtAaBRl",
        "outputId": "2f748995-e4e1-4c0e-d468-af3537031fe5"
      },
      "execution_count": 33,
      "outputs": [
        {
          "output_type": "execute_result",
          "data": {
            "text/plain": [
              "<matplotlib.collections.PathCollection at 0x7fed93b38050>"
            ]
          },
          "metadata": {},
          "execution_count": 33
        },
        {
          "output_type": "display_data",
          "data": {
            "image/png": "[encoded data removed]",
            "text/plain": [
              "<Figure size 720x360 with 2 Axes>"
            ]
          },
          "metadata": {
            "needs_background": "light"
          }
        }
      ]
    },
    {
      "cell_type": "markdown",
      "source": [
        "## Calculation of R2 (Testing model efficiency)\n",
        "\n",
        "R2 also known as coefficient of determination. It is used to how well the model's equation explains the change in dependent variable.\n",
        "\n",
        "If R2 is near 1, the model is strong, i.e. the independent variable totally explains the variation in dependent variable.\n",
        "\n",
        "Formula of R2 \n",
        "\n",
        "<img src=\"https://docs.oracle.com/cd/E17236_01/epm.1112/cb_statistical/images/graphics/r_squared_constant.gif\" alt=\"formula for r2\">\n",
        "\n",
        "* y(cap) - Predicted value\n",
        "* y - Actual value\n",
        "* y(bar) - Mean value (dependent variable)\n",
        "\n",
        "`SST = SSR + SSE`\n",
        "\n",
        "Explanation curve\n",
        "\n",
        "<img src=\"https://static.cambridge.org/binary/version/id/urn:cambridge.org:id:binary:20200421144010724-0711:9781108614528:49898fig6_2.png?pub-status=live\" alt=\"example-r2\" width=\"500px\">"
      ],
      "metadata": {
        "id": "LsgBml9rOnVq"
      }
    },
    {
      "cell_type": "code",
      "source": [
        "# Check if above defined model is strong model i.e. if x explains variation in y.\n",
        "\n",
        "SSR = calculateSum(np.square(y_predicted-np.mean(y)))\n",
        "SST = calculateSum(np.square(y-np.mean(y)))\n",
        "SSR, SST"
      ],
      "metadata": {
        "colab": {
          "base_uri": "https://localhost:8080/"
        },
        "id": "MmGPIpwoeZjd",
        "outputId": "29aa3687-7a65-4019-c47e-0f970c81c809"
      },
      "execution_count": 36,
      "outputs": [
        {
          "output_type": "execute_result",
          "data": {
            "text/plain": [
              "(264.18356899073626, 265.71428571428567)"
            ]
          },
          "metadata": {},
          "execution_count": 36
        }
      ]
    },
    {
      "cell_type": "code",
      "source": [
        "# Calculating R2 value\n",
        "\n",
        "r2 = SSR/SST\n",
        "r2"
      ],
      "metadata": {
        "colab": {
          "base_uri": "https://localhost:8080/"
        },
        "id": "0pQN-KHTf8bF",
        "outputId": "bea82932-3b6b-49de-fc93-40212c470b0f"
      },
      "execution_count": 37,
      "outputs": [
        {
          "output_type": "execute_result",
          "data": {
            "text/plain": [
              "0.9942392381371796"
            ]
          },
          "metadata": {},
          "execution_count": 37
        }
      ]
    },
    {
      "cell_type": "markdown",
      "source": [
        "We can see that value of `R2 ~ 1`. Thus we can say that values of x or independent variable completely explained variation in values of y or dependent variable."
      ],
      "metadata": {
        "id": "dM1g54LJgL04"
      }
    },
    {
      "cell_type": "markdown",
      "source": [
        "## P - value and R2 (Additional theoretical knowledge)\n",
        "\n",
        "R-square value tells you how much variation is explained by your model. So 0.1 R-square means that your model explains 10% of variation within the data. The greater R-square the better the model. Whereas p-value tells you about the F statistic hypothesis testing of the \"fit of the intercept-only model and your model are equal\". So if the p-value is less than the significance level (usually 0.05) then your model fits the data well.\n",
        "\n",
        "We have four scenarios:\n",
        "\n",
        "1) low R-square and low p-value (p-value <= 0.05) <br>\n",
        "2) low R-square and high p-value (p-value > 0.05) <br>\n",
        "3) high R-square and low p-value <br>\n",
        "4) high R-square and high p-value <br>\n",
        "\n",
        "Interpretation:\n",
        "\n",
        "1) means that your model doesn't explain much of variation of the data but it is significant (better than not having a model)<br>\n",
        "2) means that your model doesn't explain much of variation of the data and it is not significant (worst scenario)<br>\n",
        "3) means your model explains a lot of variation within the data and is significant (best scenario)<br>\n",
        "4) means that your model explains a lot of variation within the data but is not significant (model is worthless)"
      ],
      "metadata": {
        "id": "mpFCZ2SjgdFK"
      }
    },
    {
      "cell_type": "markdown",
      "source": [
        "## Linear regression hypothesis and cost function (Gradient Descent)\n",
        "\n",
        "<img src=\"https://miro.medium.com/max/1400/1*tQTcGTLZqnI5rp3JYO_4NA.png\" alt=\"gradient-descent\">"
      ],
      "metadata": {
        "id": "4HEU1HU72zQJ"
      }
    },
    {
      "cell_type": "code",
      "source": [
        ""
      ],
      "metadata": {
        "id": "8tZoCZ7vkM4j"
      },
      "execution_count": null,
      "outputs": []
    }
  ]
}